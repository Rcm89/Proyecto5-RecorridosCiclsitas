{
 "cells": [
  {
   "cell_type": "code",
   "execution_count": null,
   "metadata": {},
   "outputs": [],
   "source": [
    "# Sacamos de la API una lista con los ganadores de cada etapa de la historia de las tres carreras\n",
    "ganadores_etapas_por_anio = []\n",
    "lista_nombres_carreras = []\n",
    "\n",
    "for i, lista_ediciones in enumerate(tqdm(lista_ediciones_tres_carreras)):\n",
    "    for anio in lista_ediciones:\n",
    "        # Crear el objeto `Race` dependiendo de la carrera\n",
    "        try:\n",
    "            if i == 0:\n",
    "                race = Race(f\"race/giro-d-italia/{anio}\")\n",
    "            elif i == 1:\n",
    "                race = Race(f\"race/tour-de-france/{anio}\")\n",
    "            elif i == 2:\n",
    "                race = Race(f\"race/vuelta-a-espana/{anio}\")\n",
    "\n",
    "            # Verificar si el contenido HTML se cargó correctamente\n",
    "            if race.html is None:\n",
    "                print(f\"No se pudo obtener la información de la carrera para el año {anio}. Saltando...\")\n",
    "                continue\n",
    "\n",
    "            # Obtener la información de ganadores de etapa y nombre de la carrera\n",
    "            info_ganadores = race.stages_winners()\n",
    "            nombre_carrera = race.name()\n",
    "            # ganadores_etapas_por_anio.append(info_ganadores)\n",
    "            ganadores_etapas_por_anio.append(info_ganadores)\n",
    "            lista_nombres_carreras.append(nombre_carrera)\n",
    "\n",
    "        except AttributeError as e:\n",
    "            print(f\"Error al obtener ganadores de etapas para el año {anio}: {e}\")\n",
    "        except Exception as e:\n",
    "            print(f\"Error inesperado para el año {anio}: {e}\")\n"
   ]
  },
  {
   "cell_type": "code",
   "execution_count": null,
   "metadata": {},
   "outputs": [],
   "source": [
    "df_ganadores_etapa_por_carreras = pd.DataFrame({'nombre_carrera': lista_nombres_carreras, 'informacion_ganador': ganadores_etapas_por_anio})\n",
    "df_ganadores_etapa_por_carreras.head()"
   ]
  },
  {
   "cell_type": "code",
   "execution_count": null,
   "metadata": {},
   "outputs": [],
   "source": [
    "ruta_datos = '../datos/datos_procyclingstats'\n",
    "nombre_archivo = 'df_ganadores_etapa_por_carreras.csv'\n",
    "ruta_archivo = os.path.join(ruta_datos, nombre_archivo)\n",
    "\n",
    "# Guardamos el DataFrame en un archivo CSV\n",
    "df_ganadores_etapa_por_carreras.to_csv(ruta_archivo, index=False)\n"
   ]
  }
 ],
 "metadata": {
  "language_info": {
   "name": "python"
  }
 },
 "nbformat": 4,
 "nbformat_minor": 2
}
