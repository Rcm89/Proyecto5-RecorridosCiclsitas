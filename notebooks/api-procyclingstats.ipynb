{
 "cells": [
  {
   "cell_type": "markdown",
   "metadata": {},
   "source": [
    "Instalamos e importamos módulos de la api de procyclingstats\n"
   ]
  },
  {
   "cell_type": "code",
   "execution_count": 3,
   "metadata": {},
   "outputs": [
    {
     "name": "stdout",
     "output_type": "stream",
     "text": [
      "Collecting procyclingstats\n",
      "  Downloading procyclingstats-0.2.1-py3-none-any.whl.metadata (2.5 kB)\n",
      "Requirement already satisfied: requests in c:\\users\\administrador\\appdata\\roaming\\python\\python312\\site-packages (from procyclingstats) (2.32.3)\n",
      "Collecting selectolax (from procyclingstats)\n",
      "  Downloading selectolax-0.3.25-cp312-cp312-win_amd64.whl.metadata (6.1 kB)\n",
      "Requirement already satisfied: charset-normalizer<4,>=2 in c:\\users\\administrador\\appdata\\roaming\\python\\python312\\site-packages (from requests->procyclingstats) (3.3.2)\n",
      "Requirement already satisfied: idna<4,>=2.5 in c:\\users\\administrador\\appdata\\local\\programs\\python\\python312\\lib\\site-packages (from requests->procyclingstats) (2.10)\n",
      "Requirement already satisfied: urllib3<3,>=1.21.1 in c:\\users\\administrador\\appdata\\roaming\\python\\python312\\site-packages (from requests->procyclingstats) (2.2.3)\n",
      "Requirement already satisfied: certifi>=2017.4.17 in c:\\users\\administrador\\appdata\\roaming\\python\\python312\\site-packages (from requests->procyclingstats) (2024.8.30)\n",
      "Downloading procyclingstats-0.2.1-py3-none-any.whl (34 kB)\n",
      "Downloading selectolax-0.3.25-cp312-cp312-win_amd64.whl (2.5 MB)\n",
      "   ---------------------------------------- 0.0/2.5 MB ? eta -:--:--\n",
      "   ------------------------------------- -- 2.4/2.5 MB 13.4 MB/s eta 0:00:01\n",
      "   ---------------------------------------- 2.5/2.5 MB 11.8 MB/s eta 0:00:00\n",
      "Installing collected packages: selectolax, procyclingstats\n",
      "Successfully installed procyclingstats-0.2.1 selectolax-0.3.25\n"
     ]
    },
    {
     "name": "stderr",
     "output_type": "stream",
     "text": [
      "\n",
      "[notice] A new release of pip is available: 24.2 -> 24.3.1\n",
      "[notice] To update, run: python.exe -m pip install --upgrade pip\n"
     ]
    }
   ],
   "source": [
    "!pip install procyclingstats"
   ]
  },
  {
   "cell_type": "code",
   "execution_count": 4,
   "metadata": {},
   "outputs": [],
   "source": [
    "from procyclingstats import Race, RaceClimbs, Stage\n"
   ]
  }
 ],
 "metadata": {
  "kernelspec": {
   "display_name": "Python 3",
   "language": "python",
   "name": "python3"
  },
  "language_info": {
   "codemirror_mode": {
    "name": "ipython",
    "version": 3
   },
   "file_extension": ".py",
   "mimetype": "text/x-python",
   "name": "python",
   "nbconvert_exporter": "python",
   "pygments_lexer": "ipython3",
   "version": "3.12.6"
  }
 },
 "nbformat": 4,
 "nbformat_minor": 2
}
