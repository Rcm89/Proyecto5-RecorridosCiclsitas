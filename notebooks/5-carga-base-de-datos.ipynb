{
 "cells": [
  {
   "cell_type": "code",
   "execution_count": 1,
   "metadata": {},
   "outputs": [],
   "source": [
    "# Importamos librerias\n",
    "import pandas as pd\n",
    "import numpy as np\n",
    "\n",
    "from datetime import datetime \n",
    "\n",
    "import os\n",
    "\n",
    "import re\n",
    "\n",
    "pd.set_option('display.max_columns', None) # para poder visualizar todas las columnas de los DataFrames\n",
    "# Ignorar warings\n",
    "import warnings\n",
    "warnings.filterwarnings(\"ignore\")\n",
    "\n",
    "import dotenv\n",
    "from dotenv import load_dotenv\n",
    "load_dotenv()\n",
    "\n",
    "\n",
    "pd.set_option('display.max_columns', None)\n",
    "\n",
    "import sys \n",
    "sys.path.append(os.path.abspath(\"../src\"))  "
   ]
  },
  {
   "cell_type": "code",
   "execution_count": 2,
   "metadata": {},
   "outputs": [],
   "source": [
    "import psycopg2\n",
    "from psycopg2 import OperationalError, errorcodes, errors \n",
    "\n",
    "from psycopg2 import sql\n",
    "import support_base_de_datos as sbd\n",
    "import support_extraccion as se\n"
   ]
  },
  {
   "cell_type": "markdown",
   "metadata": {},
   "source": [
    "En primer lugar cargamos los datafrmaes en los que basaremos nuestra inserción, que serán los 3 de información general delas carreras, los 3 de información de etapas y los 3 de información de puertos."
   ]
  },
  {
   "cell_type": "code",
   "execution_count": 3,
   "metadata": {},
   "outputs": [],
   "source": [
    "dicc_dataframes=se.cargar_datos_wikipedia()\n",
    "[df_giro, df_tour, df_vuelta] = [dicc_dataframes[\"datos_giro\"],\n",
    "                                 dicc_dataframes[\"datos_tour\"] ,\n",
    "                                 dicc_dataframes[\"datos_vuelta\"]]"
   ]
  },
  {
   "cell_type": "code",
   "execution_count": 4,
   "metadata": {},
   "outputs": [
    {
     "data": {
      "text/html": [
       "<div>\n",
       "<style scoped>\n",
       "    .dataframe tbody tr th:only-of-type {\n",
       "        vertical-align: middle;\n",
       "    }\n",
       "\n",
       "    .dataframe tbody tr th {\n",
       "        vertical-align: top;\n",
       "    }\n",
       "\n",
       "    .dataframe thead th {\n",
       "        text-align: right;\n",
       "    }\n",
       "</style>\n",
       "<table border=\"1\" class=\"dataframe\">\n",
       "  <thead>\n",
       "    <tr style=\"text-align: right;\">\n",
       "      <th></th>\n",
       "      <th>Edición</th>\n",
       "      <th>Año</th>\n",
       "      <th>Ganador</th>\n",
       "      <th>Tiempo del ganador</th>\n",
       "      <th>Kilómetros totales</th>\n",
       "      <th>Velocidad media</th>\n",
       "      <th>N.º de corredores que participaron</th>\n",
       "      <th>N.º de corredores que finalizaron</th>\n",
       "      <th>Puntos del ganador</th>\n",
       "    </tr>\n",
       "  </thead>\n",
       "  <tbody>\n",
       "    <tr>\n",
       "      <th>0</th>\n",
       "      <td>1</td>\n",
       "      <td>1909</td>\n",
       "      <td>Luigi Ganna</td>\n",
       "      <td>NaN</td>\n",
       "      <td>2448.0</td>\n",
       "      <td>27.258</td>\n",
       "      <td>127</td>\n",
       "      <td>49</td>\n",
       "      <td>25</td>\n",
       "    </tr>\n",
       "    <tr>\n",
       "      <th>1</th>\n",
       "      <td>2</td>\n",
       "      <td>1910</td>\n",
       "      <td>Carlo Galetti</td>\n",
       "      <td>NaN</td>\n",
       "      <td>2987.5</td>\n",
       "      <td>26.114</td>\n",
       "      <td>101</td>\n",
       "      <td>22</td>\n",
       "      <td>28</td>\n",
       "    </tr>\n",
       "    <tr>\n",
       "      <th>2</th>\n",
       "      <td>3</td>\n",
       "      <td>1911</td>\n",
       "      <td>Carlo Galetti</td>\n",
       "      <td>NaN</td>\n",
       "      <td>3452.0</td>\n",
       "      <td>26.082</td>\n",
       "      <td>86</td>\n",
       "      <td>24</td>\n",
       "      <td>50</td>\n",
       "    </tr>\n",
       "    <tr>\n",
       "      <th>3</th>\n",
       "      <td>4</td>\n",
       "      <td>1912</td>\n",
       "      <td>Atala</td>\n",
       "      <td>NaN</td>\n",
       "      <td>2439.5</td>\n",
       "      <td>27.106</td>\n",
       "      <td>54</td>\n",
       "      <td>26</td>\n",
       "      <td>31</td>\n",
       "    </tr>\n",
       "    <tr>\n",
       "      <th>4</th>\n",
       "      <td>5</td>\n",
       "      <td>1913</td>\n",
       "      <td>Carlo Oriani</td>\n",
       "      <td>NaN</td>\n",
       "      <td>2932.0</td>\n",
       "      <td>26.379</td>\n",
       "      <td>99</td>\n",
       "      <td>35</td>\n",
       "      <td>37</td>\n",
       "    </tr>\n",
       "  </tbody>\n",
       "</table>\n",
       "</div>"
      ],
      "text/plain": [
       "   Edición   Año        Ganador Tiempo del ganador  Kilómetros totales  \\\n",
       "0        1  1909    Luigi Ganna                NaN              2448.0   \n",
       "1        2  1910  Carlo Galetti                NaN              2987.5   \n",
       "2        3  1911  Carlo Galetti                NaN              3452.0   \n",
       "3        4  1912          Atala                NaN              2439.5   \n",
       "4        5  1913   Carlo Oriani                NaN              2932.0   \n",
       "\n",
       "   Velocidad media  N.º de corredores que participaron  \\\n",
       "0           27.258                                 127   \n",
       "1           26.114                                 101   \n",
       "2           26.082                                  86   \n",
       "3           27.106                                  54   \n",
       "4           26.379                                  99   \n",
       "\n",
       "   N.º de corredores que finalizaron  Puntos del ganador  \n",
       "0                                 49                  25  \n",
       "1                                 22                  28  \n",
       "2                                 24                  50  \n",
       "3                                 26                  31  \n",
       "4                                 35                  37  "
      ]
     },
     "execution_count": 4,
     "metadata": {},
     "output_type": "execute_result"
    }
   ],
   "source": [
    "df_giro.head()"
   ]
  },
  {
   "cell_type": "code",
   "execution_count": 5,
   "metadata": {},
   "outputs": [],
   "source": [
    "lista_carreras=[\"giro-d-italia\", \"tour-de-france\", \"vuelta-a-espana\"]"
   ]
  },
  {
   "cell_type": "code",
   "execution_count": 6,
   "metadata": {},
   "outputs": [],
   "source": [
    "for carrera in lista_carreras:\n",
    "    ruta_datos = '../datos/datos_api_procyclingstats/datos_limpiados'\n",
    "    nombre_archivo = f'df_etapas_{carrera}.csv'\n",
    "    ruta_archivo = os.path.join(ruta_datos, nombre_archivo)\n",
    "    if carrera == \"giro-d-italia\":\n",
    "        df_etapas_giro=pd.read_csv(ruta_archivo)\n",
    "    elif carrera == \"tour-de-france\":\n",
    "        df_etapas_tour=pd.read_csv(ruta_archivo)\n",
    "    elif carrera == \"vuelta-a-espana\":\n",
    "        df_etapas_vuelta=pd.read_csv(ruta_archivo)"
   ]
  },
  {
   "cell_type": "code",
   "execution_count": 7,
   "metadata": {},
   "outputs": [],
   "source": [
    "df_puertos_giro=pd.read_csv('../datos/datos_api_geopy/datos_transformados/datos_puertos_giro.csv')\n",
    "df_puertos_tour=pd.read_csv('../datos/datos_api_geopy/datos_transformados/datos_puertos_tour.csv')\n",
    "df_puertos_vuelta_completo=pd.read_csv('../datos/datos_api_geopy/datos_transformados/datos_puertos_vuelta.csv')"
   ]
  },
  {
   "cell_type": "markdown",
   "metadata": {},
   "source": [
    "### Creamos la base de datos y la conexion"
   ]
  },
  {
   "cell_type": "code",
   "execution_count": 8,
   "metadata": {},
   "outputs": [
    {
     "name": "stdout",
     "output_type": "stream",
     "text": [
      "Error de tipo: la base de datos «Ciclismo» ya existe\n",
      "\n"
     ]
    }
   ],
   "source": [
    "sbd.crear_basedatos(\"localhost\",\"postgres\",\"admin\",\"5432\",\"Ciclismo\")"
   ]
  },
  {
   "cell_type": "code",
   "execution_count": 9,
   "metadata": {},
   "outputs": [],
   "source": [
    "# Creamos la conexion\n",
    "conn = psycopg2.connect(\n",
    "    dbname=\"Ciclismo\",\n",
    "    user=\"postgres\",\n",
    "    password=\"admin\",\n",
    "    host=\"localhost\",\n",
    "    port=\"5432\"\n",
    ")\n",
    "cursor = conn.cursor()\n"
   ]
  },
  {
   "cell_type": "markdown",
   "metadata": {},
   "source": [
    "### Creamos las tablas"
   ]
  },
  {
   "cell_type": "markdown",
   "metadata": {},
   "source": [
    "Para la creacion de tablas, he decidido hacer 3 tablas una para para las ediciones de las grandes vueltas, otra para las etapas de cada edición y otra para los puertos más frecuents. He tanteado la idea de cada una de estas tablas dividirla en 3 una para el giro, ota para el Tour y otra para la Vuela, pero eso complicaría bastante a la hora de hacer las queries así que lo he desechado.\n",
    "\n",
    "Sobre la relación entre las tablas, la tabla de ediciones y la de etapas están conectadas mediante id_ediciones que es Primary Key de la tabla ediciones y foreign key de la tabla etapas. En cambio, para la tabla de puertos, dado que no tenemos información sobre en que edición se subió cada uno no hemso podido conectarlo con una primary key, sin embargo, el campo carrera conecta las 3 tablas lo que permite hacer consultas. "
   ]
  },
  {
   "cell_type": "code",
   "execution_count": 10,
   "metadata": {},
   "outputs": [],
   "source": [
    "cursor.execute(\"\"\"\n",
    "-- Tabla para las ediciones de las grandes vueltas\n",
    "CREATE TABLE IF NOT EXISTS ediciones (\n",
    "    id SERIAL PRIMARY KEY,\n",
    "    carrera VARCHAR(20),\n",
    "    edicion INT,\n",
    "    ano INT,\n",
    "    ganador VARCHAR(100),\n",
    "    tiempo_ganador VARCHAR(50),\n",
    "    kilometros_totales FLOAT,\n",
    "    velocidad_media FLOAT,\n",
    "    num_corredores_participantes INT,\n",
    "    num_corredores_finalizaron INT,\n",
    "    puntos_ganador INT\n",
    ");\n",
    "\n",
    "-- Tabla para las etapas de cada edición (sin el campo 'etapa')\n",
    "CREATE TABLE IF NOT EXISTS etapas (\n",
    "    id SERIAL PRIMARY KEY,\n",
    "    carrera VARCHAR(20),\n",
    "    fecha DATE,\n",
    "    salida VARCHAR(100),\n",
    "    llegada VARCHAR(100),\n",
    "    distancia FLOAT,\n",
    "    tipo_etapa VARCHAR(10),\n",
    "    metros_verticales FLOAT,\n",
    "    ganador_etapa VARCHAR(100),\n",
    "    url_ganador VARCHAR(255),\n",
    "    edad INT,\n",
    "    nacionalidad VARCHAR(10),\n",
    "    edicion_id INT REFERENCES ediciones(id) ON DELETE CASCADE\n",
    ");\n",
    "\n",
    "-- Tabla para los puertos más frecuentados\n",
    "CREATE TABLE IF NOT EXISTS puertos (\n",
    "    id SERIAL PRIMARY KEY,\n",
    "    carrera VARCHAR(20),\n",
    "    puerto VARCHAR(100),\n",
    "    num_etapas INT,\n",
    "    num_ediciones INT,\n",
    "    ano_primera_vez INT,\n",
    "    latitud FLOAT,\n",
    "    longitud FLOAT\n",
    ");\n",
    "\"\"\")\n",
    "\n"
   ]
  },
  {
   "cell_type": "markdown",
   "metadata": {},
   "source": [
    "### Inserción de datos"
   ]
  },
  {
   "cell_type": "markdown",
   "metadata": {},
   "source": [
    "Usamos el metodo iterrows para iterar por filas. Hacemos las inserciones fijandonos en respetar la primay key y que los values se corresponden a los camos que queremos meter."
   ]
  },
  {
   "cell_type": "code",
   "execution_count": 11,
   "metadata": {},
   "outputs": [
    {
     "ename": "KeyError",
     "evalue": "'edition'",
     "output_type": "error",
     "traceback": [
      "\u001b[1;31m---------------------------------------------------------------------------\u001b[0m",
      "\u001b[1;31mKeyError\u001b[0m                                  Traceback (most recent call last)",
      "File \u001b[1;32mc:\\Users\\Administrador\\AppData\\Local\\Programs\\Python\\Python312\\Lib\\site-packages\\pandas\\core\\indexes\\base.py:3805\u001b[0m, in \u001b[0;36mIndex.get_loc\u001b[1;34m(self, key)\u001b[0m\n\u001b[0;32m   3804\u001b[0m \u001b[38;5;28;01mtry\u001b[39;00m:\n\u001b[1;32m-> 3805\u001b[0m     \u001b[38;5;28;01mreturn\u001b[39;00m \u001b[38;5;28;43mself\u001b[39;49m\u001b[38;5;241;43m.\u001b[39;49m\u001b[43m_engine\u001b[49m\u001b[38;5;241;43m.\u001b[39;49m\u001b[43mget_loc\u001b[49m\u001b[43m(\u001b[49m\u001b[43mcasted_key\u001b[49m\u001b[43m)\u001b[49m\n\u001b[0;32m   3806\u001b[0m \u001b[38;5;28;01mexcept\u001b[39;00m \u001b[38;5;167;01mKeyError\u001b[39;00m \u001b[38;5;28;01mas\u001b[39;00m err:\n",
      "File \u001b[1;32mindex.pyx:167\u001b[0m, in \u001b[0;36mpandas._libs.index.IndexEngine.get_loc\u001b[1;34m()\u001b[0m\n",
      "File \u001b[1;32mindex.pyx:196\u001b[0m, in \u001b[0;36mpandas._libs.index.IndexEngine.get_loc\u001b[1;34m()\u001b[0m\n",
      "File \u001b[1;32mpandas\\\\_libs\\\\hashtable_class_helper.pxi:7081\u001b[0m, in \u001b[0;36mpandas._libs.hashtable.PyObjectHashTable.get_item\u001b[1;34m()\u001b[0m\n",
      "File \u001b[1;32mpandas\\\\_libs\\\\hashtable_class_helper.pxi:7089\u001b[0m, in \u001b[0;36mpandas._libs.hashtable.PyObjectHashTable.get_item\u001b[1;34m()\u001b[0m\n",
      "\u001b[1;31mKeyError\u001b[0m: 'edition'",
      "\nThe above exception was the direct cause of the following exception:\n",
      "\u001b[1;31mKeyError\u001b[0m                                  Traceback (most recent call last)",
      "Cell \u001b[1;32mIn[11], line 28\u001b[0m\n\u001b[0;32m     26\u001b[0m \u001b[38;5;28;01mfor\u001b[39;00m carrera, df \u001b[38;5;129;01min\u001b[39;00m \u001b[38;5;28mzip\u001b[39m([\u001b[38;5;124m\"\u001b[39m\u001b[38;5;124mGiro\u001b[39m\u001b[38;5;124m\"\u001b[39m, \u001b[38;5;124m\"\u001b[39m\u001b[38;5;124mTour\u001b[39m\u001b[38;5;124m\"\u001b[39m, \u001b[38;5;124m\"\u001b[39m\u001b[38;5;124mVuelta\u001b[39m\u001b[38;5;124m\"\u001b[39m], [df_etapas_giro, df_etapas_tour, df_etapas_vuelta]):\n\u001b[0;32m     27\u001b[0m     \u001b[38;5;28;01mfor\u001b[39;00m _, row \u001b[38;5;129;01min\u001b[39;00m df\u001b[38;5;241m.\u001b[39miterrows():\n\u001b[1;32m---> 28\u001b[0m         edicion_id \u001b[38;5;241m=\u001b[39m ediciones_map\u001b[38;5;241m.\u001b[39mget((carrera, \u001b[38;5;28mint\u001b[39m(\u001b[43mrow\u001b[49m\u001b[43m[\u001b[49m\u001b[38;5;124;43m'\u001b[39;49m\u001b[38;5;124;43medition\u001b[39;49m\u001b[38;5;124;43m'\u001b[39;49m\u001b[43m]\u001b[49m)))\n\u001b[0;32m     29\u001b[0m         \u001b[38;5;28;01mif\u001b[39;00m edicion_id:\n\u001b[0;32m     30\u001b[0m             cursor\u001b[38;5;241m.\u001b[39mexecute(\u001b[38;5;124m\"\"\"\u001b[39m\n\u001b[0;32m     31\u001b[0m \u001b[38;5;124m                INSERT INTO etapas (carrera, fecha, salida, llegada, distancia, tipo_etapa, metros_verticales,\u001b[39m\n\u001b[0;32m     32\u001b[0m \u001b[38;5;124m                                    ganador_etapa, url_ganador, edad, nacionalidad, edicion_id)\u001b[39m\n\u001b[1;32m   (...)\u001b[0m\n\u001b[0;32m     46\u001b[0m                 edicion_id\n\u001b[0;32m     47\u001b[0m             ))\n",
      "File \u001b[1;32mc:\\Users\\Administrador\\AppData\\Local\\Programs\\Python\\Python312\\Lib\\site-packages\\pandas\\core\\series.py:1121\u001b[0m, in \u001b[0;36mSeries.__getitem__\u001b[1;34m(self, key)\u001b[0m\n\u001b[0;32m   1118\u001b[0m     \u001b[38;5;28;01mreturn\u001b[39;00m \u001b[38;5;28mself\u001b[39m\u001b[38;5;241m.\u001b[39m_values[key]\n\u001b[0;32m   1120\u001b[0m \u001b[38;5;28;01melif\u001b[39;00m key_is_scalar:\n\u001b[1;32m-> 1121\u001b[0m     \u001b[38;5;28;01mreturn\u001b[39;00m \u001b[38;5;28;43mself\u001b[39;49m\u001b[38;5;241;43m.\u001b[39;49m\u001b[43m_get_value\u001b[49m\u001b[43m(\u001b[49m\u001b[43mkey\u001b[49m\u001b[43m)\u001b[49m\n\u001b[0;32m   1123\u001b[0m \u001b[38;5;66;03m# Convert generator to list before going through hashable part\u001b[39;00m\n\u001b[0;32m   1124\u001b[0m \u001b[38;5;66;03m# (We will iterate through the generator there to check for slices)\u001b[39;00m\n\u001b[0;32m   1125\u001b[0m \u001b[38;5;28;01mif\u001b[39;00m is_iterator(key):\n",
      "File \u001b[1;32mc:\\Users\\Administrador\\AppData\\Local\\Programs\\Python\\Python312\\Lib\\site-packages\\pandas\\core\\series.py:1237\u001b[0m, in \u001b[0;36mSeries._get_value\u001b[1;34m(self, label, takeable)\u001b[0m\n\u001b[0;32m   1234\u001b[0m     \u001b[38;5;28;01mreturn\u001b[39;00m \u001b[38;5;28mself\u001b[39m\u001b[38;5;241m.\u001b[39m_values[label]\n\u001b[0;32m   1236\u001b[0m \u001b[38;5;66;03m# Similar to Index.get_value, but we do not fall back to positional\u001b[39;00m\n\u001b[1;32m-> 1237\u001b[0m loc \u001b[38;5;241m=\u001b[39m \u001b[38;5;28;43mself\u001b[39;49m\u001b[38;5;241;43m.\u001b[39;49m\u001b[43mindex\u001b[49m\u001b[38;5;241;43m.\u001b[39;49m\u001b[43mget_loc\u001b[49m\u001b[43m(\u001b[49m\u001b[43mlabel\u001b[49m\u001b[43m)\u001b[49m\n\u001b[0;32m   1239\u001b[0m \u001b[38;5;28;01mif\u001b[39;00m is_integer(loc):\n\u001b[0;32m   1240\u001b[0m     \u001b[38;5;28;01mreturn\u001b[39;00m \u001b[38;5;28mself\u001b[39m\u001b[38;5;241m.\u001b[39m_values[loc]\n",
      "File \u001b[1;32mc:\\Users\\Administrador\\AppData\\Local\\Programs\\Python\\Python312\\Lib\\site-packages\\pandas\\core\\indexes\\base.py:3812\u001b[0m, in \u001b[0;36mIndex.get_loc\u001b[1;34m(self, key)\u001b[0m\n\u001b[0;32m   3807\u001b[0m     \u001b[38;5;28;01mif\u001b[39;00m \u001b[38;5;28misinstance\u001b[39m(casted_key, \u001b[38;5;28mslice\u001b[39m) \u001b[38;5;129;01mor\u001b[39;00m (\n\u001b[0;32m   3808\u001b[0m         \u001b[38;5;28misinstance\u001b[39m(casted_key, abc\u001b[38;5;241m.\u001b[39mIterable)\n\u001b[0;32m   3809\u001b[0m         \u001b[38;5;129;01mand\u001b[39;00m \u001b[38;5;28many\u001b[39m(\u001b[38;5;28misinstance\u001b[39m(x, \u001b[38;5;28mslice\u001b[39m) \u001b[38;5;28;01mfor\u001b[39;00m x \u001b[38;5;129;01min\u001b[39;00m casted_key)\n\u001b[0;32m   3810\u001b[0m     ):\n\u001b[0;32m   3811\u001b[0m         \u001b[38;5;28;01mraise\u001b[39;00m InvalidIndexError(key)\n\u001b[1;32m-> 3812\u001b[0m     \u001b[38;5;28;01mraise\u001b[39;00m \u001b[38;5;167;01mKeyError\u001b[39;00m(key) \u001b[38;5;28;01mfrom\u001b[39;00m \u001b[38;5;21;01merr\u001b[39;00m\n\u001b[0;32m   3813\u001b[0m \u001b[38;5;28;01mexcept\u001b[39;00m \u001b[38;5;167;01mTypeError\u001b[39;00m:\n\u001b[0;32m   3814\u001b[0m     \u001b[38;5;66;03m# If we have a listlike key, _check_indexing_error will raise\u001b[39;00m\n\u001b[0;32m   3815\u001b[0m     \u001b[38;5;66;03m#  InvalidIndexError. Otherwise we fall through and re-raise\u001b[39;00m\n\u001b[0;32m   3816\u001b[0m     \u001b[38;5;66;03m#  the TypeError.\u001b[39;00m\n\u001b[0;32m   3817\u001b[0m     \u001b[38;5;28mself\u001b[39m\u001b[38;5;241m.\u001b[39m_check_indexing_error(key)\n",
      "\u001b[1;31mKeyError\u001b[0m: 'edition'"
     ]
    }
   ],
   "source": [
    "for carrera, df in zip([\"Giro\", \"Tour\", \"Vuelta\"], [df_giro, df_tour, df_vuelta]):\n",
    "    for _, row in df.iterrows():\n",
    "        cursor.execute(\"\"\"\n",
    "            INSERT INTO ediciones (carrera, edicion, ano, ganador, tiempo_ganador, kilometros_totales, velocidad_media,\n",
    "                                   num_corredores_participantes, num_corredores_finalizaron, puntos_ganador)\n",
    "            VALUES (%s, %s, %s, %s, %s, %s, %s, %s, %s, %s)\n",
    "        \"\"\", (\n",
    "            carrera,\n",
    "            int(row['Edición']),\n",
    "            int(row['Año']),\n",
    "            row['Ganador'],\n",
    "            row['Tiempo del ganador'] if pd.notna(row['Tiempo del ganador']) else None,\n",
    "            row['Kilómetros totales'] if pd.notna(row['Kilómetros totales']) else None,\n",
    "            row['Velocidad media'] if pd.notna(row['Velocidad media']) else None,\n",
    "            int(row['N.º de corredores que participaron']) if pd.notna(row['N.º de corredores que participaron']) else None,\n",
    "            int(row['N.º de corredores que finalizaron']) if pd.notna(row['N.º de corredores que finalizaron']) else None,\n",
    "            int(row['Puntos del ganador']) if pd.notna(row['Puntos del ganador']) else None\n",
    "        ))\n",
    "\n",
    "# Recuperar los IDs de las ediciones insertadas para usarlos en las etapas\n",
    "cursor.execute(\"SELECT id, carrera, edicion FROM ediciones\")\n",
    "ediciones_ids = cursor.fetchall()\n",
    "ediciones_map = {(carrera, edicion): id for id, carrera, edicion in ediciones_ids}\n",
    "\n",
    "\n",
    "for carrera, df in zip([\"Giro\", \"Tour\", \"Vuelta\"], [df_etapas_giro, df_etapas_tour, df_etapas_vuelta]):\n",
    "    for _, row in df.iterrows():\n",
    "        edicion_id = ediciones_map.get((carrera, int(row['edition'])))\n",
    "        if edicion_id:\n",
    "            cursor.execute(\"\"\"\n",
    "                INSERT INTO etapas (carrera, fecha, salida, llegada, distancia, tipo_etapa, metros_verticales,\n",
    "                                    ganador_etapa, url_ganador, edad, nacionalidad, edicion_id)\n",
    "                VALUES (%s, %s, %s, %s, %s, %s, %s, %s, %s, %s, %s, %s)\n",
    "            \"\"\", (\n",
    "                carrera,\n",
    "                row['date'],\n",
    "                row['departure'],\n",
    "                row['arrival'],\n",
    "                row['distance'] if pd.notna(row['distance']) else None,\n",
    "                row['stage_type'],\n",
    "                row['vertical_meters'] if pd.notna(row['vertical_meters']) else None,\n",
    "                row['rider_name'],\n",
    "                row['rider_url'],\n",
    "                int(row['age']) if pd.notna(row['age']) else None,\n",
    "                row['nationality'],\n",
    "                edicion_id\n",
    "            ))\n",
    "\n",
    "# Insertar datos en puertos\n",
    "for carrera, df in zip([\"Giro\", \"Tour\", \"Vuelta\"], [df_puertos_giro, df_puertos_tour, df_puertos_vuelta]):\n",
    "    for _, row in df.iterrows():\n",
    "        cursor.execute(\"\"\"\n",
    "            INSERT INTO puertos (carrera, puerto, num_etapas, num_ediciones, ano_primera_vez, latitud, longitud)\n",
    "            VALUES (%s, %s, %s, %s, %s, %s, %s)\n",
    "        \"\"\", (\n",
    "            carrera,\n",
    "            row['Climb'],\n",
    "            int(row['#stages']),\n",
    "            int(row['#editions']),\n",
    "            int(row['First year']),\n",
    "            row['Latitud'] if pd.notna(row['Latitud']) else None,\n",
    "            row['Longitud'] if pd.notna(row['Longitud']) else None\n",
    "        ))"
   ]
  },
  {
   "cell_type": "code",
   "execution_count": null,
   "metadata": {},
   "outputs": [
    {
     "name": "stdout",
     "output_type": "stream",
     "text": [
      "Error de tipo: la base de datos «Ciclismo» ya existe\n",
      "\n"
     ]
    }
   ],
   "source": [
    "sbd.crear_basedatos(\"localhost\",\"postgres\",\"admin\",\"5432\",\"Ciclismo\")"
   ]
  }
 ],
 "metadata": {
  "kernelspec": {
   "display_name": "Python 3",
   "language": "python",
   "name": "python3"
  },
  "language_info": {
   "codemirror_mode": {
    "name": "ipython",
    "version": 3
   },
   "file_extension": ".py",
   "mimetype": "text/x-python",
   "name": "python",
   "nbconvert_exporter": "python",
   "pygments_lexer": "ipython3",
   "version": "3.12.6"
  }
 },
 "nbformat": 4,
 "nbformat_minor": 2
}
